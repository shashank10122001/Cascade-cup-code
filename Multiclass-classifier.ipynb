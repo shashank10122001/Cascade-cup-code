{
 "cells": [
  {
   "cell_type": "code",
   "execution_count": null,
   "metadata": {
    "id": "0MigDqhmOHMz"
   },
   "outputs": [],
   "source": [
    "import pandas as pd\n",
    "import numpy as np\n",
    "import matplotlib.pyplot as plt\n",
    "import math \n",
    "import random"
   ]
  },
  {
   "cell_type": "code",
   "execution_count": null,
   "metadata": {
    "id": "749qBE9srg6y"
   },
   "outputs": [],
   "source": [
    "from sklearn.metrics import accuracy_score\n",
    "from sklearn.metrics import precision_score\n",
    "from sklearn.metrics import recall_score\n",
    "from sklearn.metrics import f1_score\n",
    "from sklearn.metrics import confusion_matrix\n",
    "from sklearn import model_selection\n",
    "from sklearn.preprocessing import StandardScaler\n",
    "from sklearn import svm\n",
    "from sklearn.kernel_approximation import RBFSampler"
   ]
  },
  {
   "cell_type": "code",
   "execution_count": null,
   "metadata": {
    "id": "Cu2DuSy8OiTz"
   },
   "outputs": [],
   "source": [
    "from sklearn.datasets import make_blobs\n",
    "from keras.layers import LeakyReLU\n",
    "from keras.layers import Dense\n",
    "from keras.layers import BatchNormalization\n",
    "from keras.models import Sequential\n",
    "from keras.optimizers import Adam , SGD , Adagrad , Adadelta , Adamax\n",
    "from keras.utils import to_categorical\n",
    "from matplotlib import pyplot"
   ]
  },
  {
   "cell_type": "code",
   "execution_count": null,
   "metadata": {
    "colab": {
     "base_uri": "https://localhost:8080/",
     "height": 488
    },
    "id": "YuvmQhXOAywa",
    "outputId": "3ebe566b-12ae-479c-c77c-75b811db9ddc"
   },
   "outputs": [
    {
     "ename": "ParserError",
     "evalue": "ignored",
     "output_type": "error",
     "traceback": [
      "\u001b[0;31m---------------------------------------------------------------------------\u001b[0m",
      "\u001b[0;31mParserError\u001b[0m                               Traceback (most recent call last)",
      "\u001b[0;32m<ipython-input-21-03de1a8712a3>\u001b[0m in \u001b[0;36m<module>\u001b[0;34m()\u001b[0m\n\u001b[0;32m----> 1\u001b[0;31m \u001b[0mtraindf\u001b[0m \u001b[0;34m=\u001b[0m \u001b[0mpd\u001b[0m\u001b[0;34m.\u001b[0m\u001b[0mread_csv\u001b[0m\u001b[0;34m(\u001b[0m\u001b[0;34m'train_age_dataset.csv'\u001b[0m\u001b[0;34m)\u001b[0m\u001b[0;34m\u001b[0m\u001b[0;34m\u001b[0m\u001b[0m\n\u001b[0m\u001b[1;32m      2\u001b[0m \u001b[0mtestdf\u001b[0m \u001b[0;34m=\u001b[0m \u001b[0mpd\u001b[0m\u001b[0;34m.\u001b[0m\u001b[0mread_csv\u001b[0m\u001b[0;34m(\u001b[0m\u001b[0;34m'test_age_dataset.csv'\u001b[0m\u001b[0;34m)\u001b[0m\u001b[0;34m\u001b[0m\u001b[0;34m\u001b[0m\u001b[0m\n",
      "\u001b[0;32m/usr/local/lib/python3.6/dist-packages/pandas/io/parsers.py\u001b[0m in \u001b[0;36mread_csv\u001b[0;34m(filepath_or_buffer, sep, delimiter, header, names, index_col, usecols, squeeze, prefix, mangle_dupe_cols, dtype, engine, converters, true_values, false_values, skipinitialspace, skiprows, skipfooter, nrows, na_values, keep_default_na, na_filter, verbose, skip_blank_lines, parse_dates, infer_datetime_format, keep_date_col, date_parser, dayfirst, cache_dates, iterator, chunksize, compression, thousands, decimal, lineterminator, quotechar, quoting, doublequote, escapechar, comment, encoding, dialect, error_bad_lines, warn_bad_lines, delim_whitespace, low_memory, memory_map, float_precision)\u001b[0m\n\u001b[1;32m    686\u001b[0m     )\n\u001b[1;32m    687\u001b[0m \u001b[0;34m\u001b[0m\u001b[0m\n\u001b[0;32m--> 688\u001b[0;31m     \u001b[0;32mreturn\u001b[0m \u001b[0m_read\u001b[0m\u001b[0;34m(\u001b[0m\u001b[0mfilepath_or_buffer\u001b[0m\u001b[0;34m,\u001b[0m \u001b[0mkwds\u001b[0m\u001b[0;34m)\u001b[0m\u001b[0;34m\u001b[0m\u001b[0;34m\u001b[0m\u001b[0m\n\u001b[0m\u001b[1;32m    689\u001b[0m \u001b[0;34m\u001b[0m\u001b[0m\n\u001b[1;32m    690\u001b[0m \u001b[0;34m\u001b[0m\u001b[0m\n",
      "\u001b[0;32m/usr/local/lib/python3.6/dist-packages/pandas/io/parsers.py\u001b[0m in \u001b[0;36m_read\u001b[0;34m(filepath_or_buffer, kwds)\u001b[0m\n\u001b[1;32m    458\u001b[0m \u001b[0;34m\u001b[0m\u001b[0m\n\u001b[1;32m    459\u001b[0m     \u001b[0;32mtry\u001b[0m\u001b[0;34m:\u001b[0m\u001b[0;34m\u001b[0m\u001b[0;34m\u001b[0m\u001b[0m\n\u001b[0;32m--> 460\u001b[0;31m         \u001b[0mdata\u001b[0m \u001b[0;34m=\u001b[0m \u001b[0mparser\u001b[0m\u001b[0;34m.\u001b[0m\u001b[0mread\u001b[0m\u001b[0;34m(\u001b[0m\u001b[0mnrows\u001b[0m\u001b[0;34m)\u001b[0m\u001b[0;34m\u001b[0m\u001b[0;34m\u001b[0m\u001b[0m\n\u001b[0m\u001b[1;32m    461\u001b[0m     \u001b[0;32mfinally\u001b[0m\u001b[0;34m:\u001b[0m\u001b[0;34m\u001b[0m\u001b[0;34m\u001b[0m\u001b[0m\n\u001b[1;32m    462\u001b[0m         \u001b[0mparser\u001b[0m\u001b[0;34m.\u001b[0m\u001b[0mclose\u001b[0m\u001b[0;34m(\u001b[0m\u001b[0;34m)\u001b[0m\u001b[0;34m\u001b[0m\u001b[0;34m\u001b[0m\u001b[0m\n",
      "\u001b[0;32m/usr/local/lib/python3.6/dist-packages/pandas/io/parsers.py\u001b[0m in \u001b[0;36mread\u001b[0;34m(self, nrows)\u001b[0m\n\u001b[1;32m   1196\u001b[0m     \u001b[0;32mdef\u001b[0m \u001b[0mread\u001b[0m\u001b[0;34m(\u001b[0m\u001b[0mself\u001b[0m\u001b[0;34m,\u001b[0m \u001b[0mnrows\u001b[0m\u001b[0;34m=\u001b[0m\u001b[0;32mNone\u001b[0m\u001b[0;34m)\u001b[0m\u001b[0;34m:\u001b[0m\u001b[0;34m\u001b[0m\u001b[0;34m\u001b[0m\u001b[0m\n\u001b[1;32m   1197\u001b[0m         \u001b[0mnrows\u001b[0m \u001b[0;34m=\u001b[0m \u001b[0m_validate_integer\u001b[0m\u001b[0;34m(\u001b[0m\u001b[0;34m\"nrows\"\u001b[0m\u001b[0;34m,\u001b[0m \u001b[0mnrows\u001b[0m\u001b[0;34m)\u001b[0m\u001b[0;34m\u001b[0m\u001b[0;34m\u001b[0m\u001b[0m\n\u001b[0;32m-> 1198\u001b[0;31m         \u001b[0mret\u001b[0m \u001b[0;34m=\u001b[0m \u001b[0mself\u001b[0m\u001b[0;34m.\u001b[0m\u001b[0m_engine\u001b[0m\u001b[0;34m.\u001b[0m\u001b[0mread\u001b[0m\u001b[0;34m(\u001b[0m\u001b[0mnrows\u001b[0m\u001b[0;34m)\u001b[0m\u001b[0;34m\u001b[0m\u001b[0;34m\u001b[0m\u001b[0m\n\u001b[0m\u001b[1;32m   1199\u001b[0m \u001b[0;34m\u001b[0m\u001b[0m\n\u001b[1;32m   1200\u001b[0m         \u001b[0;31m# May alter columns / col_dict\u001b[0m\u001b[0;34m\u001b[0m\u001b[0;34m\u001b[0m\u001b[0;34m\u001b[0m\u001b[0m\n",
      "\u001b[0;32m/usr/local/lib/python3.6/dist-packages/pandas/io/parsers.py\u001b[0m in \u001b[0;36mread\u001b[0;34m(self, nrows)\u001b[0m\n\u001b[1;32m   2155\u001b[0m     \u001b[0;32mdef\u001b[0m \u001b[0mread\u001b[0m\u001b[0;34m(\u001b[0m\u001b[0mself\u001b[0m\u001b[0;34m,\u001b[0m \u001b[0mnrows\u001b[0m\u001b[0;34m=\u001b[0m\u001b[0;32mNone\u001b[0m\u001b[0;34m)\u001b[0m\u001b[0;34m:\u001b[0m\u001b[0;34m\u001b[0m\u001b[0;34m\u001b[0m\u001b[0m\n\u001b[1;32m   2156\u001b[0m         \u001b[0;32mtry\u001b[0m\u001b[0;34m:\u001b[0m\u001b[0;34m\u001b[0m\u001b[0;34m\u001b[0m\u001b[0m\n\u001b[0;32m-> 2157\u001b[0;31m             \u001b[0mdata\u001b[0m \u001b[0;34m=\u001b[0m \u001b[0mself\u001b[0m\u001b[0;34m.\u001b[0m\u001b[0m_reader\u001b[0m\u001b[0;34m.\u001b[0m\u001b[0mread\u001b[0m\u001b[0;34m(\u001b[0m\u001b[0mnrows\u001b[0m\u001b[0;34m)\u001b[0m\u001b[0;34m\u001b[0m\u001b[0;34m\u001b[0m\u001b[0m\n\u001b[0m\u001b[1;32m   2158\u001b[0m         \u001b[0;32mexcept\u001b[0m \u001b[0mStopIteration\u001b[0m\u001b[0;34m:\u001b[0m\u001b[0;34m\u001b[0m\u001b[0;34m\u001b[0m\u001b[0m\n\u001b[1;32m   2159\u001b[0m             \u001b[0;32mif\u001b[0m \u001b[0mself\u001b[0m\u001b[0;34m.\u001b[0m\u001b[0m_first_chunk\u001b[0m\u001b[0;34m:\u001b[0m\u001b[0;34m\u001b[0m\u001b[0;34m\u001b[0m\u001b[0m\n",
      "\u001b[0;32mpandas/_libs/parsers.pyx\u001b[0m in \u001b[0;36mpandas._libs.parsers.TextReader.read\u001b[0;34m()\u001b[0m\n",
      "\u001b[0;32mpandas/_libs/parsers.pyx\u001b[0m in \u001b[0;36mpandas._libs.parsers.TextReader._read_low_memory\u001b[0;34m()\u001b[0m\n",
      "\u001b[0;32mpandas/_libs/parsers.pyx\u001b[0m in \u001b[0;36mpandas._libs.parsers.TextReader._read_rows\u001b[0;34m()\u001b[0m\n",
      "\u001b[0;32mpandas/_libs/parsers.pyx\u001b[0m in \u001b[0;36mpandas._libs.parsers.TextReader._tokenize_rows\u001b[0;34m()\u001b[0m\n",
      "\u001b[0;32mpandas/_libs/parsers.pyx\u001b[0m in \u001b[0;36mpandas._libs.parsers.raise_parser_error\u001b[0;34m()\u001b[0m\n",
      "\u001b[0;31mParserError\u001b[0m: Error tokenizing data. C error: Expected 27 fields in line 7063, saw 30\n"
     ]
    }
   ],
   "source": [
    "traindf = pd.read_csv('train_age_dataset.csv')\n",
    "testdf = pd.read_csv('test_age_dataset.csv')"
   ]
  },
  {
   "cell_type": "code",
   "execution_count": null,
   "metadata": {
    "id": "A12nT4w3Xa1p"
   },
   "outputs": [],
   "source": [
    "acc = np.zeros((30,2))\n",
    "\n",
    "i=0\n"
   ]
  },
  {
   "cell_type": "code",
   "execution_count": null,
   "metadata": {
    "id": "wGAIa9NrOigK"
   },
   "outputs": [],
   "source": [
    "from sklearn.utils import shuffle\n",
    "from sklearn.preprocessing import StandardScaler\n",
    "view_df = shuffle(traindf, random_state=2)\n",
    "\n"
   ]
  },
  {
   "cell_type": "code",
   "execution_count": null,
   "metadata": {
    "id": "_9DS95phPtel"
   },
   "outputs": [],
   "source": [
    "view_df.value_counts('age_group')\n",
    "an = random.randint(11,25)"
   ]
  },
  {
   "cell_type": "code",
   "execution_count": null,
   "metadata": {
    "colab": {
     "base_uri": "https://localhost:8080/"
    },
    "id": "J4TvSJt1heeC",
    "outputId": "478d4edb-ca78-4206-df06-0427e19df14f"
   },
   "outputs": [
    {
     "name": "stdout",
     "output_type": "stream",
     "text": [
      "(267537, 27)\n"
     ]
    }
   ],
   "source": [
    "a = view_df[view_df['age_group']==1].head(150000)\n",
    "b=view_df.loc[view_df['age_group']!= 1]\n",
    "view_df = pd.concat([a,b])\n",
    "print(view_df.shape)"
   ]
  },
  {
   "cell_type": "code",
   "execution_count": null,
   "metadata": {
    "id": "UlmhIwpe3_c-"
   },
   "outputs": [],
   "source": [
    "a = testdf.corr()\n",
    "a.to_csv('correlation.csv')"
   ]
  },
  {
   "cell_type": "code",
   "execution_count": null,
   "metadata": {
    "colab": {
     "base_uri": "https://localhost:8080/",
     "height": 438
    },
    "id": "KYQN0k4uTozv",
    "outputId": "c80800e3-3724-4839-8d5b-6963736e333a"
   },
   "outputs": [
    {
     "data": {
      "text/html": [
       "<div>\n",
       "<style scoped>\n",
       "    .dataframe tbody tr th:only-of-type {\n",
       "        vertical-align: middle;\n",
       "    }\n",
       "\n",
       "    .dataframe tbody tr th {\n",
       "        vertical-align: top;\n",
       "    }\n",
       "\n",
       "    .dataframe thead th {\n",
       "        text-align: right;\n",
       "    }\n",
       "</style>\n",
       "<table border=\"1\" class=\"dataframe\">\n",
       "  <thead>\n",
       "    <tr style=\"text-align: right;\">\n",
       "      <th></th>\n",
       "      <th>Unnamed: 0</th>\n",
       "      <th>userId</th>\n",
       "      <th>tier</th>\n",
       "      <th>gender</th>\n",
       "      <th>following_rate</th>\n",
       "      <th>followers_avg_age</th>\n",
       "      <th>following_avg_age</th>\n",
       "      <th>max_repetitive_punc</th>\n",
       "      <th>num_of_hashtags_per_action</th>\n",
       "      <th>emoji_count_per_action</th>\n",
       "      <th>punctuations_per_action</th>\n",
       "      <th>number_of_words_per_action</th>\n",
       "      <th>avgTimeSpent</th>\n",
       "      <th>avgDuration</th>\n",
       "      <th>avgComments</th>\n",
       "      <th>creations</th>\n",
       "      <th>content_views</th>\n",
       "      <th>num_of_comments</th>\n",
       "      <th>weekends_trails_watched_per_day</th>\n",
       "      <th>weekdays_trails_watched_per_day</th>\n",
       "      <th>slot1_trails_watched_per_day</th>\n",
       "      <th>slot2_trails_watched_per_day</th>\n",
       "      <th>slot3_trails_watched_per_day</th>\n",
       "      <th>slot4_trails_watched_per_day</th>\n",
       "      <th>avgt2</th>\n",
       "      <th>age_group</th>\n",
       "    </tr>\n",
       "  </thead>\n",
       "  <tbody>\n",
       "    <tr>\n",
       "      <th>236640</th>\n",
       "      <td>226607</td>\n",
       "      <td>40556870</td>\n",
       "      <td>2</td>\n",
       "      <td>1</td>\n",
       "      <td>0.000000</td>\n",
       "      <td>0.000000</td>\n",
       "      <td>0.0</td>\n",
       "      <td>0.0</td>\n",
       "      <td>0.0</td>\n",
       "      <td>0.0</td>\n",
       "      <td>0.000000</td>\n",
       "      <td>0.000000</td>\n",
       "      <td>8.600000</td>\n",
       "      <td>51.586184</td>\n",
       "      <td>0.0</td>\n",
       "      <td>0.000000</td>\n",
       "      <td>0.314516</td>\n",
       "      <td>0.000000</td>\n",
       "      <td>0.181452</td>\n",
       "      <td>0.000000</td>\n",
       "      <td>0.000000</td>\n",
       "      <td>0.000000</td>\n",
       "      <td>0.362903</td>\n",
       "      <td>0.000000</td>\n",
       "      <td>0.000000</td>\n",
       "      <td>1.0</td>\n",
       "    </tr>\n",
       "    <tr>\n",
       "      <th>9517</th>\n",
       "      <td>290692</td>\n",
       "      <td>54517165</td>\n",
       "      <td>2</td>\n",
       "      <td>1</td>\n",
       "      <td>0.000000</td>\n",
       "      <td>0.000000</td>\n",
       "      <td>0.0</td>\n",
       "      <td>0.0</td>\n",
       "      <td>0.0</td>\n",
       "      <td>0.0</td>\n",
       "      <td>0.000000</td>\n",
       "      <td>0.000000</td>\n",
       "      <td>7.500000</td>\n",
       "      <td>11.780000</td>\n",
       "      <td>0.0</td>\n",
       "      <td>0.000000</td>\n",
       "      <td>0.026786</td>\n",
       "      <td>0.000000</td>\n",
       "      <td>0.000000</td>\n",
       "      <td>0.003571</td>\n",
       "      <td>0.000000</td>\n",
       "      <td>0.017857</td>\n",
       "      <td>0.000000</td>\n",
       "      <td>0.000000</td>\n",
       "      <td>0.000000</td>\n",
       "      <td>1.0</td>\n",
       "    </tr>\n",
       "    <tr>\n",
       "      <th>264095</th>\n",
       "      <td>127869</td>\n",
       "      <td>1506239</td>\n",
       "      <td>3</td>\n",
       "      <td>1</td>\n",
       "      <td>0.001742</td>\n",
       "      <td>0.000000</td>\n",
       "      <td>0.0</td>\n",
       "      <td>0.0</td>\n",
       "      <td>0.0</td>\n",
       "      <td>0.0</td>\n",
       "      <td>0.000000</td>\n",
       "      <td>0.333333</td>\n",
       "      <td>66.250000</td>\n",
       "      <td>115.627000</td>\n",
       "      <td>1.0</td>\n",
       "      <td>0.000000</td>\n",
       "      <td>0.001742</td>\n",
       "      <td>0.001742</td>\n",
       "      <td>0.003484</td>\n",
       "      <td>0.000000</td>\n",
       "      <td>0.000000</td>\n",
       "      <td>0.006969</td>\n",
       "      <td>0.000000</td>\n",
       "      <td>0.000000</td>\n",
       "      <td>0.000000</td>\n",
       "      <td>1.0</td>\n",
       "    </tr>\n",
       "    <tr>\n",
       "      <th>43729</th>\n",
       "      <td>67314</td>\n",
       "      <td>37252574</td>\n",
       "      <td>2</td>\n",
       "      <td>1</td>\n",
       "      <td>0.000000</td>\n",
       "      <td>0.000000</td>\n",
       "      <td>0.0</td>\n",
       "      <td>0.0</td>\n",
       "      <td>0.0</td>\n",
       "      <td>0.0</td>\n",
       "      <td>0.000000</td>\n",
       "      <td>0.000000</td>\n",
       "      <td>13.933333</td>\n",
       "      <td>144.491583</td>\n",
       "      <td>0.0</td>\n",
       "      <td>0.000000</td>\n",
       "      <td>0.120000</td>\n",
       "      <td>0.000000</td>\n",
       "      <td>0.060000</td>\n",
       "      <td>0.000000</td>\n",
       "      <td>0.000000</td>\n",
       "      <td>0.120000</td>\n",
       "      <td>0.000000</td>\n",
       "      <td>0.000000</td>\n",
       "      <td>0.000000</td>\n",
       "      <td>1.0</td>\n",
       "    </tr>\n",
       "    <tr>\n",
       "      <th>166564</th>\n",
       "      <td>436872</td>\n",
       "      <td>53535075</td>\n",
       "      <td>2</td>\n",
       "      <td>2</td>\n",
       "      <td>0.008696</td>\n",
       "      <td>0.000000</td>\n",
       "      <td>0.0</td>\n",
       "      <td>0.0</td>\n",
       "      <td>0.0</td>\n",
       "      <td>0.0</td>\n",
       "      <td>0.000000</td>\n",
       "      <td>0.032258</td>\n",
       "      <td>10.145631</td>\n",
       "      <td>54.789955</td>\n",
       "      <td>0.0</td>\n",
       "      <td>0.008696</td>\n",
       "      <td>0.791304</td>\n",
       "      <td>0.000000</td>\n",
       "      <td>0.000000</td>\n",
       "      <td>0.179130</td>\n",
       "      <td>0.000000</td>\n",
       "      <td>0.260870</td>\n",
       "      <td>0.634783</td>\n",
       "      <td>0.000000</td>\n",
       "      <td>139.000000</td>\n",
       "      <td>1.0</td>\n",
       "    </tr>\n",
       "    <tr>\n",
       "      <th>...</th>\n",
       "      <td>...</td>\n",
       "      <td>...</td>\n",
       "      <td>...</td>\n",
       "      <td>...</td>\n",
       "      <td>...</td>\n",
       "      <td>...</td>\n",
       "      <td>...</td>\n",
       "      <td>...</td>\n",
       "      <td>...</td>\n",
       "      <td>...</td>\n",
       "      <td>...</td>\n",
       "      <td>...</td>\n",
       "      <td>...</td>\n",
       "      <td>...</td>\n",
       "      <td>...</td>\n",
       "      <td>...</td>\n",
       "      <td>...</td>\n",
       "      <td>...</td>\n",
       "      <td>...</td>\n",
       "      <td>...</td>\n",
       "      <td>...</td>\n",
       "      <td>...</td>\n",
       "      <td>...</td>\n",
       "      <td>...</td>\n",
       "      <td>...</td>\n",
       "      <td>...</td>\n",
       "    </tr>\n",
       "    <tr>\n",
       "      <th>182951</th>\n",
       "      <td>528272</td>\n",
       "      <td>37242590</td>\n",
       "      <td>2</td>\n",
       "      <td>2</td>\n",
       "      <td>0.000000</td>\n",
       "      <td>0.000000</td>\n",
       "      <td>0.0</td>\n",
       "      <td>0.0</td>\n",
       "      <td>0.0</td>\n",
       "      <td>0.0</td>\n",
       "      <td>0.000000</td>\n",
       "      <td>0.011905</td>\n",
       "      <td>8.891566</td>\n",
       "      <td>75.545468</td>\n",
       "      <td>0.0</td>\n",
       "      <td>0.008000</td>\n",
       "      <td>0.656000</td>\n",
       "      <td>0.000000</td>\n",
       "      <td>0.064000</td>\n",
       "      <td>0.107200</td>\n",
       "      <td>0.000000</td>\n",
       "      <td>0.048000</td>\n",
       "      <td>0.536000</td>\n",
       "      <td>0.080000</td>\n",
       "      <td>175.850000</td>\n",
       "      <td>2.0</td>\n",
       "    </tr>\n",
       "    <tr>\n",
       "      <th>35541</th>\n",
       "      <td>36498</td>\n",
       "      <td>351833</td>\n",
       "      <td>1</td>\n",
       "      <td>1</td>\n",
       "      <td>0.010381</td>\n",
       "      <td>2.439394</td>\n",
       "      <td>3.5</td>\n",
       "      <td>3.0</td>\n",
       "      <td>0.0</td>\n",
       "      <td>0.0</td>\n",
       "      <td>0.005181</td>\n",
       "      <td>0.740933</td>\n",
       "      <td>24.363409</td>\n",
       "      <td>138.013987</td>\n",
       "      <td>11.0</td>\n",
       "      <td>0.025375</td>\n",
       "      <td>0.183391</td>\n",
       "      <td>0.012687</td>\n",
       "      <td>0.110150</td>\n",
       "      <td>0.047982</td>\n",
       "      <td>0.027682</td>\n",
       "      <td>0.207612</td>\n",
       "      <td>0.089965</td>\n",
       "      <td>0.134948</td>\n",
       "      <td>579.921250</td>\n",
       "      <td>4.0</td>\n",
       "    </tr>\n",
       "    <tr>\n",
       "      <th>252511</th>\n",
       "      <td>480902</td>\n",
       "      <td>47200678</td>\n",
       "      <td>2</td>\n",
       "      <td>1</td>\n",
       "      <td>0.090909</td>\n",
       "      <td>3.000000</td>\n",
       "      <td>2.0</td>\n",
       "      <td>0.0</td>\n",
       "      <td>0.0</td>\n",
       "      <td>0.0</td>\n",
       "      <td>0.000000</td>\n",
       "      <td>0.014451</td>\n",
       "      <td>11.858639</td>\n",
       "      <td>74.010839</td>\n",
       "      <td>0.0</td>\n",
       "      <td>0.033058</td>\n",
       "      <td>2.818182</td>\n",
       "      <td>0.000000</td>\n",
       "      <td>0.181818</td>\n",
       "      <td>0.558678</td>\n",
       "      <td>0.099174</td>\n",
       "      <td>0.933884</td>\n",
       "      <td>1.140496</td>\n",
       "      <td>0.983471</td>\n",
       "      <td>186.687500</td>\n",
       "      <td>4.0</td>\n",
       "    </tr>\n",
       "    <tr>\n",
       "      <th>53922</th>\n",
       "      <td>423952</td>\n",
       "      <td>51822585</td>\n",
       "      <td>2</td>\n",
       "      <td>1</td>\n",
       "      <td>0.033898</td>\n",
       "      <td>0.000000</td>\n",
       "      <td>0.0</td>\n",
       "      <td>3.0</td>\n",
       "      <td>0.0</td>\n",
       "      <td>0.0</td>\n",
       "      <td>0.000000</td>\n",
       "      <td>0.008850</td>\n",
       "      <td>11.301724</td>\n",
       "      <td>60.078929</td>\n",
       "      <td>0.0</td>\n",
       "      <td>0.016949</td>\n",
       "      <td>0.932203</td>\n",
       "      <td>0.000000</td>\n",
       "      <td>0.444915</td>\n",
       "      <td>0.018644</td>\n",
       "      <td>0.008475</td>\n",
       "      <td>0.042373</td>\n",
       "      <td>0.000000</td>\n",
       "      <td>0.932203</td>\n",
       "      <td>190.200000</td>\n",
       "      <td>2.0</td>\n",
       "    </tr>\n",
       "    <tr>\n",
       "      <th>100879</th>\n",
       "      <td>448364</td>\n",
       "      <td>209776</td>\n",
       "      <td>2</td>\n",
       "      <td>1</td>\n",
       "      <td>0.064718</td>\n",
       "      <td>3.000000</td>\n",
       "      <td>3.0</td>\n",
       "      <td>0.0</td>\n",
       "      <td>0.0</td>\n",
       "      <td>0.0</td>\n",
       "      <td>0.000000</td>\n",
       "      <td>1.444444</td>\n",
       "      <td>12.200000</td>\n",
       "      <td>118.330000</td>\n",
       "      <td>0.0</td>\n",
       "      <td>0.003132</td>\n",
       "      <td>0.005219</td>\n",
       "      <td>0.000000</td>\n",
       "      <td>0.001044</td>\n",
       "      <td>0.000626</td>\n",
       "      <td>0.000000</td>\n",
       "      <td>0.000000</td>\n",
       "      <td>0.002088</td>\n",
       "      <td>0.003132</td>\n",
       "      <td>2057.705882</td>\n",
       "      <td>3.0</td>\n",
       "    </tr>\n",
       "  </tbody>\n",
       "</table>\n",
       "<p>267537 rows × 26 columns</p>\n",
       "</div>"
      ],
      "text/plain": [
       "        Unnamed: 0    userId  ...        avgt2  age_group\n",
       "236640      226607  40556870  ...     0.000000        1.0\n",
       "9517        290692  54517165  ...     0.000000        1.0\n",
       "264095      127869   1506239  ...     0.000000        1.0\n",
       "43729        67314  37252574  ...     0.000000        1.0\n",
       "166564      436872  53535075  ...   139.000000        1.0\n",
       "...            ...       ...  ...          ...        ...\n",
       "182951      528272  37242590  ...   175.850000        2.0\n",
       "35541        36498    351833  ...   579.921250        4.0\n",
       "252511      480902  47200678  ...   186.687500        4.0\n",
       "53922       423952  51822585  ...   190.200000        2.0\n",
       "100879      448364    209776  ...  2057.705882        3.0\n",
       "\n",
       "[267537 rows x 26 columns]"
      ]
     },
     "execution_count": 25,
     "metadata": {
      "tags": []
     },
     "output_type": "execute_result"
    }
   ],
   "source": [
    "\n",
    "view_df.drop(view_df.columns[[12,]],axis=1)\n"
   ]
  },
  {
   "cell_type": "code",
   "execution_count": null,
   "metadata": {
    "id": "fikjqffeOij5"
   },
   "outputs": [],
   "source": [
    "x_y = view_df.to_numpy()\n",
    "X = x_y[:,:26]\n",
    "Y = x_y[:,26:]\n",
    "X=np.asarray(X)\n",
    "scaler = StandardScaler()\n",
    "X = scaler.fit_transform(X)\n",
    "trainX, testX = X[:300000, :], X[300000:, :]\n",
    "trainy, testy = Y[:300000], Y[300000:]\n",
    "m = Y.shape[0]"
   ]
  },
  {
   "cell_type": "code",
   "execution_count": null,
   "metadata": {
    "colab": {
     "base_uri": "https://localhost:8080/"
    },
    "id": "FTfJPqPDbyZ2",
    "outputId": "cef50b3e-13da-4fc5-d60d-574fa3fc3109"
   },
   "outputs": [
    {
     "name": "stdout",
     "output_type": "stream",
     "text": [
      "[[-3.06524799e-01 -6.27228724e-02  6.62238132e-02 ...  4.46230230e-01\n",
      "  -3.29576722e-01 -1.76621868e-01]\n",
      " [ 9.10484578e-02  7.00090248e-01  6.62238132e-02 ... -3.42569442e-01\n",
      "  -3.29576722e-01 -1.76621868e-01]\n",
      " [-9.19079816e-01 -2.19651257e+00  2.34000722e+00 ... -3.42569442e-01\n",
      "  -3.29576722e-01 -1.76621868e-01]\n",
      " ...\n",
      " [ 1.27108137e+00  3.00305553e-01  6.62238132e-02 ...  2.13639107e+00\n",
      "   1.61086247e+00 -1.32407566e-03]\n",
      " [ 9.17772531e-01  5.52854035e-01  6.62238132e-02 ... -3.42569442e-01\n",
      "   1.50970869e+00  1.97412855e-03]\n",
      " [ 1.06922074e+00 -2.26735341e+00  6.62238132e-02 ... -3.38031693e-01\n",
      "  -3.23398064e-01  1.75554445e+00]]\n"
     ]
    }
   ],
   "source": [
    "print(X)"
   ]
  },
  {
   "cell_type": "code",
   "execution_count": null,
   "metadata": {
    "colab": {
     "base_uri": "https://localhost:8080/"
    },
    "id": "nxJqWkE_bXq2",
    "outputId": "a60e93d8-f71d-47c7-8e9a-b4b990bbc5f6"
   },
   "outputs": [
    {
     "name": "stdout",
     "output_type": "stream",
     "text": [
      "[[1.]\n",
      " [1.]\n",
      " [1.]\n",
      " ...\n",
      " [4.]\n",
      " [2.]\n",
      " [3.]]\n"
     ]
    }
   ],
   "source": [
    "print(Y)"
   ]
  },
  {
   "cell_type": "code",
   "execution_count": null,
   "metadata": {
    "colab": {
     "base_uri": "https://localhost:8080/",
     "height": 296
    },
    "id": "pBntxj3qOink",
    "outputId": "60cde2a3-86fa-4a07-ffd1-b9f7caf0e54c"
   },
   "outputs": [
    {
     "ename": "IndexError",
     "evalue": "ignored",
     "output_type": "error",
     "traceback": [
      "\u001b[0;31m---------------------------------------------------------------------------\u001b[0m",
      "\u001b[0;31mIndexError\u001b[0m                                Traceback (most recent call last)",
      "\u001b[0;32m<ipython-input-29-7021f5d214a9>\u001b[0m in \u001b[0;36m<module>\u001b[0;34m()\u001b[0m\n\u001b[0;32m----> 1\u001b[0;31m \u001b[0my\u001b[0m \u001b[0;34m=\u001b[0m \u001b[0mto_categorical\u001b[0m\u001b[0;34m(\u001b[0m\u001b[0mtrainy\u001b[0m\u001b[0;34m)\u001b[0m\u001b[0;34m\u001b[0m\u001b[0;34m\u001b[0m\u001b[0m\n\u001b[0m\u001b[1;32m      2\u001b[0m \u001b[0mprint\u001b[0m\u001b[0;34m(\u001b[0m\u001b[0my\u001b[0m\u001b[0;34m.\u001b[0m\u001b[0mshape\u001b[0m\u001b[0;34m)\u001b[0m\u001b[0;34m\u001b[0m\u001b[0;34m\u001b[0m\u001b[0m\n",
      "\u001b[0;32m/usr/local/lib/python3.6/dist-packages/tensorflow/python/keras/utils/np_utils.py\u001b[0m in \u001b[0;36mto_categorical\u001b[0;34m(y, num_classes, dtype)\u001b[0m\n\u001b[1;32m     76\u001b[0m   \u001b[0mn\u001b[0m \u001b[0;34m=\u001b[0m \u001b[0my\u001b[0m\u001b[0;34m.\u001b[0m\u001b[0mshape\u001b[0m\u001b[0;34m[\u001b[0m\u001b[0;36m0\u001b[0m\u001b[0;34m]\u001b[0m\u001b[0;34m\u001b[0m\u001b[0;34m\u001b[0m\u001b[0m\n\u001b[1;32m     77\u001b[0m   \u001b[0mcategorical\u001b[0m \u001b[0;34m=\u001b[0m \u001b[0mnp\u001b[0m\u001b[0;34m.\u001b[0m\u001b[0mzeros\u001b[0m\u001b[0;34m(\u001b[0m\u001b[0;34m(\u001b[0m\u001b[0mn\u001b[0m\u001b[0;34m,\u001b[0m \u001b[0mnum_classes\u001b[0m\u001b[0;34m)\u001b[0m\u001b[0;34m,\u001b[0m \u001b[0mdtype\u001b[0m\u001b[0;34m=\u001b[0m\u001b[0mdtype\u001b[0m\u001b[0;34m)\u001b[0m\u001b[0;34m\u001b[0m\u001b[0;34m\u001b[0m\u001b[0m\n\u001b[0;32m---> 78\u001b[0;31m   \u001b[0mcategorical\u001b[0m\u001b[0;34m[\u001b[0m\u001b[0mnp\u001b[0m\u001b[0;34m.\u001b[0m\u001b[0marange\u001b[0m\u001b[0;34m(\u001b[0m\u001b[0mn\u001b[0m\u001b[0;34m)\u001b[0m\u001b[0;34m,\u001b[0m \u001b[0my\u001b[0m\u001b[0;34m]\u001b[0m \u001b[0;34m=\u001b[0m \u001b[0;36m1\u001b[0m\u001b[0;34m\u001b[0m\u001b[0;34m\u001b[0m\u001b[0m\n\u001b[0m\u001b[1;32m     79\u001b[0m   \u001b[0moutput_shape\u001b[0m \u001b[0;34m=\u001b[0m \u001b[0minput_shape\u001b[0m \u001b[0;34m+\u001b[0m \u001b[0;34m(\u001b[0m\u001b[0mnum_classes\u001b[0m\u001b[0;34m,\u001b[0m\u001b[0;34m)\u001b[0m\u001b[0;34m\u001b[0m\u001b[0;34m\u001b[0m\u001b[0m\n\u001b[1;32m     80\u001b[0m   \u001b[0mcategorical\u001b[0m \u001b[0;34m=\u001b[0m \u001b[0mnp\u001b[0m\u001b[0;34m.\u001b[0m\u001b[0mreshape\u001b[0m\u001b[0;34m(\u001b[0m\u001b[0mcategorical\u001b[0m\u001b[0;34m,\u001b[0m \u001b[0moutput_shape\u001b[0m\u001b[0;34m)\u001b[0m\u001b[0;34m\u001b[0m\u001b[0;34m\u001b[0m\u001b[0m\n",
      "\u001b[0;31mIndexError\u001b[0m: index -9223372036854775808 is out of bounds for axis 1 with size 5"
     ]
    }
   ],
   "source": [
    "y = to_categorical(trainy)\n",
    "print(y.shape)"
   ]
  },
  {
   "cell_type": "code",
   "execution_count": null,
   "metadata": {
    "id": "fBzN8fA-Oiqw"
   },
   "outputs": [],
   "source": [
    "\n",
    "X_test = testdf.to_numpy()\n",
    "X_test = (X_test-(np.mean(X_test,axis=0)))/np.std(X_test,axis=0)"
   ]
  },
  {
   "cell_type": "code",
   "execution_count": null,
   "metadata": {
    "colab": {
     "base_uri": "https://localhost:8080/",
     "height": 229
    },
    "id": "L1ua8qCLR1Kh",
    "outputId": "ba6ff331-bcc6-4a4f-e23a-5e6a99a4d10c"
   },
   "outputs": [
    {
     "ename": "NameError",
     "evalue": "ignored",
     "output_type": "error",
     "traceback": [
      "\u001b[0;31m---------------------------------------------------------------------------\u001b[0m",
      "\u001b[0;31mNameError\u001b[0m                                 Traceback (most recent call last)",
      "\u001b[0;32m<ipython-input-31-6dafa50e037a>\u001b[0m in \u001b[0;36m<module>\u001b[0;34m()\u001b[0m\n\u001b[1;32m      1\u001b[0m \u001b[0;32mfrom\u001b[0m \u001b[0msklearn\u001b[0m\u001b[0;34m.\u001b[0m\u001b[0mutils\u001b[0m \u001b[0;32mimport\u001b[0m \u001b[0mclass_weight\u001b[0m\u001b[0;34m\u001b[0m\u001b[0;34m\u001b[0m\u001b[0m\n\u001b[0;32m----> 2\u001b[0;31m \u001b[0my_ints\u001b[0m \u001b[0;34m=\u001b[0m \u001b[0;34m[\u001b[0m\u001b[0my1\u001b[0m\u001b[0;34m.\u001b[0m\u001b[0margmax\u001b[0m\u001b[0;34m(\u001b[0m\u001b[0;34m)\u001b[0m \u001b[0;32mfor\u001b[0m \u001b[0my1\u001b[0m \u001b[0;32min\u001b[0m \u001b[0my\u001b[0m\u001b[0;34m]\u001b[0m\u001b[0;34m\u001b[0m\u001b[0;34m\u001b[0m\u001b[0m\n\u001b[0m\u001b[1;32m      3\u001b[0m \u001b[0;34m\u001b[0m\u001b[0m\n\u001b[1;32m      4\u001b[0m class_weights = class_weight.compute_class_weight(\n\u001b[1;32m      5\u001b[0m                \u001b[0;34m'balanced'\u001b[0m\u001b[0;34m,\u001b[0m\u001b[0;34m\u001b[0m\u001b[0;34m\u001b[0m\u001b[0m\n",
      "\u001b[0;31mNameError\u001b[0m: name 'y' is not defined"
     ]
    }
   ],
   "source": [
    "from sklearn.utils import class_weight\n",
    "y_ints = [y1.argmax() for y1 in y]\n",
    "\n",
    "class_weights = class_weight.compute_class_weight(\n",
    "               'balanced',\n",
    "                np.unique(y_ints), \n",
    "                y_ints)\n",
    "print(class_weights)"
   ]
  },
  {
   "cell_type": "code",
   "execution_count": null,
   "metadata": {
    "id": "cov8KiUtaXIJ"
   },
   "outputs": [],
   "source": [
    "class_weight1={0:0,\n",
    "              1:1,\n",
    "              2:2,\n",
    "              3:1.88,\n",
    "              4:2.5}"
   ]
  },
  {
   "cell_type": "code",
   "execution_count": null,
   "metadata": {
    "id": "Ldr68VLOOit0"
   },
   "outputs": [],
   "source": [
    "model = Sequential()\n",
    "model.add(Dense(69, input_dim=26,activation = 'relu' , kernel_initializer='GlorotUniform'))\n",
    "\n",
    "model.add(BatchNormalization(axis=-1))\n",
    "model.add(Dense(58,activation = 'relu',kernel_initializer='GlorotUniform'))\n",
    "model.add(BatchNormalization(axis=-1))\n",
    "model.add(Dense(34,activation = 'relu',kernel_initializer='GlorotUniform'))\n",
    "model.add(BatchNormalization(axis=-1))\n",
    "model.add(Dense(39,activation = 'relu',kernel_initializer='GlorotUniform'))\n",
    "\n",
    "model.add(BatchNormalization(axis=-1))\n",
    "model.add(Dense(20,activation = 'relu',kernel_initializer='GlorotUniform'))\n",
    "\n",
    "model.add(Dense(5, activation='softmax'))"
   ]
  },
  {
   "cell_type": "code",
   "execution_count": null,
   "metadata": {
    "colab": {
     "base_uri": "https://localhost:8080/"
    },
    "id": "yNXiknxNWVbX",
    "outputId": "966eba38-d1e4-4f70-cac1-e14bdb57e4cb"
   },
   "outputs": [
    {
     "name": "stdout",
     "output_type": "stream",
     "text": [
      "Model: \"sequential_17\"\n",
      "_________________________________________________________________\n",
      "Layer (type)                 Output Shape              Param #   \n",
      "=================================================================\n",
      "dense_86 (Dense)             (None, 69)                1863      \n",
      "_________________________________________________________________\n",
      "batch_normalization_35 (Batc (None, 69)                276       \n",
      "_________________________________________________________________\n",
      "dense_87 (Dense)             (None, 58)                4060      \n",
      "_________________________________________________________________\n",
      "dense_88 (Dense)             (None, 34)                2006      \n",
      "_________________________________________________________________\n",
      "dense_89 (Dense)             (None, 39)                1365      \n",
      "_________________________________________________________________\n",
      "batch_normalization_36 (Batc (None, 39)                156       \n",
      "_________________________________________________________________\n",
      "dense_90 (Dense)             (None, 20)                800       \n",
      "_________________________________________________________________\n",
      "dense_91 (Dense)             (None, 5)                 105       \n",
      "=================================================================\n",
      "Total params: 10,631\n",
      "Trainable params: 10,415\n",
      "Non-trainable params: 216\n",
      "_________________________________________________________________\n"
     ]
    }
   ],
   "source": [
    "model.summary()"
   ]
  },
  {
   "cell_type": "code",
   "execution_count": null,
   "metadata": {
    "id": "yU8F6b_bVUTi"
   },
   "outputs": [],
   "source": [
    "opt = Adamax(learning_rate = 0.001)\n",
    "model.compile(loss='categorical_crossentropy', optimizer=opt, metrics=['accuracy'],)"
   ]
  },
  {
   "cell_type": "code",
   "execution_count": null,
   "metadata": {
    "colab": {
     "base_uri": "https://localhost:8080/"
    },
    "id": "V0yp36XFVUiZ",
    "outputId": "10a87e15-6f30-40bd-c680-0de98f818e58"
   },
   "outputs": [
    {
     "name": "stdout",
     "output_type": "stream",
     "text": [
      "Epoch 1/20\n",
      "9375/9375 [==============================] - 14s 1ms/step - loss: 1.2408 - accuracy: 0.6572\n",
      "Epoch 2/20\n",
      "9375/9375 [==============================] - 14s 1ms/step - loss: 1.1472 - accuracy: 0.6770\n",
      "Epoch 3/20\n",
      "9375/9375 [==============================] - 14s 1ms/step - loss: 1.1176 - accuracy: 0.6838\n",
      "Epoch 4/20\n",
      "9375/9375 [==============================] - 14s 1ms/step - loss: 1.0976 - accuracy: 0.6882\n",
      "Epoch 5/20\n",
      "9375/9375 [==============================] - 14s 1ms/step - loss: 1.0804 - accuracy: 0.6924\n",
      "Epoch 6/20\n",
      "9375/9375 [==============================] - 14s 1ms/step - loss: 1.0627 - accuracy: 0.6995\n",
      "Epoch 7/20\n",
      "9375/9375 [==============================] - 14s 1ms/step - loss: 1.0473 - accuracy: 0.7055\n",
      "Epoch 8/20\n",
      "9375/9375 [==============================] - 14s 1ms/step - loss: 1.0336 - accuracy: 0.7100\n",
      "Epoch 9/20\n",
      "9375/9375 [==============================] - 14s 2ms/step - loss: 1.0225 - accuracy: 0.7139\n",
      "Epoch 10/20\n",
      "9375/9375 [==============================] - 13s 1ms/step - loss: 1.0112 - accuracy: 0.7177\n",
      "Epoch 11/20\n",
      "9375/9375 [==============================] - 13s 1ms/step - loss: 1.0001 - accuracy: 0.7213\n",
      "Epoch 12/20\n",
      "9375/9375 [==============================] - 13s 1ms/step - loss: 0.9913 - accuracy: 0.7238\n",
      "Epoch 13/20\n",
      "9375/9375 [==============================] - 14s 1ms/step - loss: 0.9847 - accuracy: 0.7266\n",
      "Epoch 14/20\n",
      "9375/9375 [==============================] - 13s 1ms/step - loss: 0.9780 - accuracy: 0.7280\n",
      "Epoch 15/20\n",
      "9375/9375 [==============================] - 13s 1ms/step - loss: 0.9734 - accuracy: 0.7290\n",
      "Epoch 16/20\n",
      "9375/9375 [==============================] - 13s 1ms/step - loss: 0.9688 - accuracy: 0.7295\n",
      "Epoch 17/20\n",
      "9375/9375 [==============================] - 13s 1ms/step - loss: 0.9654 - accuracy: 0.7308\n",
      "Epoch 18/20\n",
      "9375/9375 [==============================] - 14s 1ms/step - loss: 0.9614 - accuracy: 0.7322\n",
      "Epoch 19/20\n",
      "9375/9375 [==============================] - 13s 1ms/step - loss: 0.9581 - accuracy: 0.7335\n",
      "Epoch 20/20\n",
      "9375/9375 [==============================] - 13s 1ms/step - loss: 0.9558 - accuracy: 0.7327\n"
     ]
    }
   ],
   "source": [
    "history = model.fit(trainX,y,epochs=20, class_weight= class_weight1)"
   ]
  },
  {
   "cell_type": "code",
   "execution_count": null,
   "metadata": {
    "colab": {
     "base_uri": "https://localhost:8080/"
    },
    "id": "W76dQKoGVUoj",
    "outputId": "01d7f5ec-5147-4e19-e99c-958b4bf11e79"
   },
   "outputs": [
    {
     "name": "stdout",
     "output_type": "stream",
     "text": [
      "0.7458566427230835\n"
     ]
    }
   ],
   "source": [
    "_, train_acc = model.evaluate(trainX, y,verbose= 0 )\n",
    "print(train_acc)"
   ]
  },
  {
   "cell_type": "code",
   "execution_count": null,
   "metadata": {
    "id": "H0wQhZz2bTO9"
   },
   "outputs": [],
   "source": [
    "def plot_confusion_matrix(cm,\n",
    "                          target_names,\n",
    "                          title='Confusion matrix',\n",
    "                          cmap=None,\n",
    "                          normalize=True):\n",
    "    \"\"\"\n",
    "    given a sklearn confusion matrix (cm), make a nice plot\n",
    "\n",
    "    Arguments\n",
    "    ---------\n",
    "    cm:           confusion matrix from sklearn.metrics.confusion_matrix\n",
    "\n",
    "    target_names: given classification classes such as [0, 1, 2]\n",
    "                  the class names, for example: ['high', 'medium', 'low']\n",
    "\n",
    "    title:        the text to display at the top of the matrix\n",
    "\n",
    "    cmap:         the gradient of the values displayed from matplotlib.pyplot.cm\n",
    "                  see http://matplotlib.org/examples/color/colormaps_reference.html\n",
    "                  plt.get_cmap('jet') or plt.cm.Blues\n",
    "\n",
    "    normalize:    If False, plot the raw numbers\n",
    "                  If True, plot the proportions\n",
    "\n",
    "    Usage\n",
    "    -----\n",
    "    plot_confusion_matrix(cm           = cm,                  # confusion matrix created by\n",
    "                                                              # sklearn.metrics.confusion_matrix\n",
    "                          normalize    = True,                # show proportions\n",
    "                          target_names = y_labels_vals,       # list of names of the classes\n",
    "                          title        = best_estimator_name) # title of graph\n",
    "\n",
    "    Citiation\n",
    "    ---------\n",
    "    http://scikit-learn.org/stable/auto_examples/model_selection/plot_confusion_matrix.html\n",
    "\n",
    "    \"\"\"\n",
    "    import matplotlib.pyplot as plt\n",
    "    import numpy as np\n",
    "    import itertools\n",
    "\n",
    "    accuracy = np.trace(cm) / float(np.sum(cm))\n",
    "    misclass = 1 - accuracy\n",
    "\n",
    "    if cmap is None:\n",
    "        cmap = plt.get_cmap('Blues')\n",
    "\n",
    "    plt.figure(figsize=(8, 6))\n",
    "    plt.imshow(cm, interpolation='nearest', cmap=cmap)\n",
    "    plt.title(title)\n",
    "    plt.colorbar()\n",
    "\n",
    "    if target_names is not None:\n",
    "        tick_marks = np.arange(len(target_names))\n",
    "        plt.xticks(tick_marks, target_names, rotation=45)\n",
    "        plt.yticks(tick_marks, target_names)\n",
    "\n",
    "    if normalize:\n",
    "        cm = cm.astype('float') / cm.sum(axis=1)[:, np.newaxis]\n",
    "\n",
    "\n",
    "    thresh = cm.max() / 1.5 if normalize else cm.max() / 2\n",
    "    for i, j in itertools.product(range(cm.shape[0]), range(cm.shape[1])):\n",
    "        if normalize:\n",
    "            plt.text(j, i, \"{:0.4f}\".format(cm[i, j]),\n",
    "                     horizontalalignment=\"center\",\n",
    "                     color=\"white\" if cm[i, j] > thresh else \"black\")\n",
    "        else:\n",
    "            plt.text(j, i, \"{:,}\".format(cm[i, j]),\n",
    "                     horizontalalignment=\"center\",\n",
    "                     color=\"white\" if cm[i, j] > thresh else \"black\")\n",
    "\n",
    "\n",
    "    plt.tight_layout()\n",
    "    plt.ylabel('True label')\n",
    "    plt.xlabel('Predicted label\\naccuracy={:0.4f}; misclass={:0.4f}'.format(accuracy, misclass))\n",
    "    plt.show()"
   ]
  },
  {
   "cell_type": "code",
   "execution_count": null,
   "metadata": {
    "colab": {
     "base_uri": "https://localhost:8080/"
    },
    "id": "INwqyEahVUss",
    "outputId": "d552af11-50ae-49b7-a051-91f6cd9343b8"
   },
   "outputs": [
    {
     "name": "stdout",
     "output_type": "stream",
     "text": [
      "0.6724958570921817\n",
      "0.7295601349327048\n",
      "0.6724958570921817\n",
      "0.6740694942335785\n"
     ]
    }
   ],
   "source": [
    "\n",
    "yhat_probs = model.predict(testX, verbose=0)\n",
    "\n",
    "yhat_probs = yhat_probs[:, 0]\n",
    "yhat_classes = np.argmax(model.predict(testX), axis=-1)\n",
    "accuracy = accuracy_score(testy, yhat_classes)\n",
    "print( accuracy)\n",
    "precision = precision_score(testy, yhat_classes,average= 'weighted')\n",
    "print( precision)\n",
    "recall = recall_score(testy, yhat_classes , average= 'weighted')\n",
    "print( recall)\n",
    "f1 = f1_score(testy, yhat_classes, average= 'weighted')\n",
    "print( f1)"
   ]
  },
  {
   "cell_type": "code",
   "execution_count": null,
   "metadata": {
    "colab": {
     "base_uri": "https://localhost:8080/"
    },
    "id": "nkb1FCB4feDl",
    "outputId": "ef9c79c8-7f53-49c8-cb06-4c7db41c1804"
   },
   "outputs": [
    {
     "name": "stdout",
     "output_type": "stream",
     "text": [
      "1    158374\n",
      "2     69684\n",
      "4     66756\n",
      "3      5186\n",
      "dtype: int64\n"
     ]
    }
   ],
   "source": [
    "yn = model.predict(trainX)\n",
    "a2 = np.argmax(yn,axis=1)\n",
    "a2 = pd.DataFrame(a2)\n",
    "print(a2.value_counts())\n",
    "cm =confusion_matrix(rbf_predict,a2)"
   ]
  },
  {
   "cell_type": "code",
   "execution_count": null,
   "metadata": {
    "colab": {
     "base_uri": "https://localhost:8080/",
     "height": 467
    },
    "id": "6Lwcu-DGUZts",
    "outputId": "ee1d2767-d44c-4ab9-8ace-d41d9b016fcf"
   },
   "outputs": [
    {
     "data": {
      "image/png": "[encoded data removed]",
      "text/plain": [
       "<Figure size 576x432 with 2 Axes>"
      ]
     },
     "metadata": {
      "tags": []
     },
     "output_type": "display_data"
    }
   ],
   "source": [
    "plot_confusion_matrix(cm,[1,2,3,4],normalize= True)"
   ]
  },
  {
   "cell_type": "code",
   "execution_count": null,
   "metadata": {
    "id": "frrMCXAfZ8Mi"
   },
   "outputs": [],
   "source": [
    "Y_test=model.predict(X_test, )"
   ]
  },
  {
   "cell_type": "code",
   "execution_count": null,
   "metadata": {
    "colab": {
     "base_uri": "https://localhost:8080/"
    },
    "id": "qk_9Pi9Vgh39",
    "outputId": "8f3168fc-357f-423f-a94c-e8c2230d5f5e"
   },
   "outputs": [
    {
     "name": "stdout",
     "output_type": "stream",
     "text": [
      "[[0.00000000e+00 1.00000000e+00 4.31929798e-15 7.72867335e-15\n",
      "  6.58570598e-18]\n",
      " [5.60407880e-32 1.00000000e+00 2.24582536e-14 1.71237052e-10\n",
      "  5.51504155e-12]\n",
      " [3.32618570e-34 1.00000000e+00 2.53874469e-18 9.45079570e-20\n",
      "  1.91188804e-21]\n",
      " ...\n",
      " [3.38966214e-13 4.03863269e-05 1.48405961e-04 4.59521025e-01\n",
      "  5.40290177e-01]\n",
      " [5.66650520e-32 1.00000000e+00 1.18275505e-08 2.21754403e-11\n",
      "  1.45798998e-10]\n",
      " [4.30585589e-23 9.99999881e-01 1.53881317e-07 7.56144175e-11\n",
      "  1.42226781e-08]]\n"
     ]
    }
   ],
   "source": [
    "print(Y_test)"
   ]
  },
  {
   "cell_type": "code",
   "execution_count": null,
   "metadata": {
    "id": "QYpkSS5-bJ0s"
   },
   "outputs": [],
   "source": [
    "a=np.argmax(Y_test,axis=1)"
   ]
  },
  {
   "cell_type": "code",
   "execution_count": null,
   "metadata": {
    "colab": {
     "base_uri": "https://localhost:8080/"
    },
    "id": "CXTfqpykbMZk",
    "outputId": "a051d70f-41f9-4041-9ffa-c00a0ad25f2a"
   },
   "outputs": [
    {
     "name": "stdout",
     "output_type": "stream",
     "text": [
      "(54320, 5)\n"
     ]
    }
   ],
   "source": [
    "\n",
    "print(Y_test.shape)\n"
   ]
  },
  {
   "cell_type": "code",
   "execution_count": null,
   "metadata": {
    "colab": {
     "base_uri": "https://localhost:8080/"
    },
    "id": "M_5VNdyufUjH",
    "outputId": "51d7fb62-ab9f-475e-8617-44b7a98fc72e"
   },
   "outputs": [
    {
     "name": "stdout",
     "output_type": "stream",
     "text": [
      "1\n"
     ]
    }
   ],
   "source": [
    "print(np.argmax(Y_test))\n"
   ]
  },
  {
   "cell_type": "code",
   "execution_count": null,
   "metadata": {
    "colab": {
     "base_uri": "https://localhost:8080/"
    },
    "id": "5qY8EdJmhx6c",
    "outputId": "3a9e2f27-25a3-47d0-ad32-d44b0e0ecb9b"
   },
   "outputs": [
    {
     "name": "stdout",
     "output_type": "stream",
     "text": [
      "[1 1 1 ... 4 1 1]\n"
     ]
    }
   ],
   "source": [
    "print(a)"
   ]
  },
  {
   "cell_type": "code",
   "execution_count": null,
   "metadata": {
    "colab": {
     "base_uri": "https://localhost:8080/"
    },
    "id": "Atr8pOCOjntE",
    "outputId": "07dcfdeb-bee4-42c1-f60c-85ed444e092a"
   },
   "outputs": [
    {
     "name": "stdout",
     "output_type": "stream",
     "text": [
      "1    30666\n",
      "2    13223\n",
      "4     5586\n",
      "3     4845\n",
      "dtype: int64\n"
     ]
    }
   ],
   "source": [
    "a=pd.DataFrame(a)\n",
    "print(a.value_counts())"
   ]
  },
  {
   "cell_type": "code",
   "execution_count": null,
   "metadata": {
    "id": "5znWkGCqkR5W"
   },
   "outputs": [],
   "source": [
    "a.to_csv(\"predictions1.csv\", index = False)"
   ]
  },
  {
   "cell_type": "code",
   "execution_count": null,
   "metadata": {
    "id": "TsbDzwUzkxT-"
   },
   "outputs": [],
   "source": []
  }
 ],
 "metadata": {
  "colab": {
   "name": "Untitled3.ipynb",
   "provenance": []
  },
  "kernelspec": {
   "display_name": "Python 3",
   "language": "python",
   "name": "python3"
  },
  "language_info": {
   "codemirror_mode": {
    "name": "ipython",
    "version": 3
   },
   "file_extension": ".py",
   "mimetype": "text/x-python",
   "name": "python",
   "nbconvert_exporter": "python",
   "pygments_lexer": "ipython3",
   "version": "3.8.5"
  }
 },
 "nbformat": 4,
 "nbformat_minor": 1
}
